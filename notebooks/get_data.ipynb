{
 "cells": [
  {
   "cell_type": "code",
   "execution_count": 2,
   "metadata": {},
   "outputs": [
    {
     "data": {
      "text/plain": [
       "'{\"status\": 404, \"message\": \"No Result Found!\", \"result_count\": 0, \"results\": []}'"
      ]
     },
     "execution_count": 2,
     "metadata": {},
     "output_type": "execute_result"
    }
   ],
   "source": [
    "from PyMovieDb import IMDB\n",
    "imdb = IMDB()\n",
    "imdb.get_by_name('House Of The Dragon', tv=True)"
   ]
  },
  {
   "cell_type": "code",
   "execution_count": 4,
   "metadata": {},
   "outputs": [
    {
     "name": "stdout",
     "output_type": "stream",
     "text": [
      "{\n",
      "  \"type\": \"Movie\",\n",
      "  \"name\": \"Bullet Train\",\n",
      "  \"url\": \"https://www.imdb.com/title/tt12593682/\",\n",
      "  \"poster\": \"https://m.media-amazon.com/images/M/MV5BMDU2ZmM2OTYtNzIxYy00NjM5LTliNGQtN2JmOWQzYTBmZWUzXkEyXkFqcGdeQXVyMTkxNjUyNQ@@._V1_.jpg\",\n",
      "  \"description\": \"Five assassins aboard a swiftly-moving bullet train find out that their missions have something in common.\",\n",
      "  \"review\": {\n",
      "    \"author\": \"sarahrayburn\",\n",
      "    \"dateCreated\": \"2022-08-03\",\n",
      "    \"inLanguage\": \"English\",\n",
      "    \"heading\": \"Some of the most entertaining exposition I&apos;ve seen\",\n",
      "    \"reviewBody\": \"I was not surprised this movie was as good as it was with the strong cast and budget. The humor and story telling were too tier.\\n\\nThe action was easy to follow and there were enough twists and turns that it didn&apos;t feel like 2 hours.\",\n",
      "    \"reviewRating\": {\n",
      "      \"worstRating\": 1,\n",
      "      \"bestRating\": 10,\n",
      "      \"ratingValue\": 8\n",
      "    }\n",
      "  },\n",
      "  \"rating\": {\n",
      "    \"ratingCount\": 337023,\n",
      "    \"bestRating\": 10,\n",
      "    \"worstRating\": 1,\n",
      "    \"ratingValue\": 7.3\n",
      "  },\n",
      "  \"contentRating\": \"16\",\n",
      "  \"genre\": [\n",
      "    \"Action\",\n",
      "    \"Comedy\",\n",
      "    \"Thriller\"\n",
      "  ],\n",
      "  \"datePublished\": \"2022-08-04\",\n",
      "  \"keywords\": \"bullet train,train,assassin,russian,briefcase\",\n",
      "  \"duration\": \"PT2H7M\",\n",
      "  \"actor\": [\n",
      "    {\n",
      "      \"name\": \"Brad Pitt\",\n",
      "      \"url\": \"/name/nm0000093/\"\n",
      "    },\n",
      "    {\n",
      "      \"name\": \"Joey King\",\n",
      "      \"url\": \"/name/nm1428821/\"\n",
      "    },\n",
      "    {\n",
      "      \"name\": \"Aaron Taylor-Johnson\",\n",
      "      \"url\": \"/name/nm1093951/\"\n",
      "    }\n",
      "  ],\n",
      "  \"director\": [\n",
      "    {\n",
      "      \"name\": \"David Leitch\",\n",
      "      \"url\": \"/name/nm0500610/\"\n",
      "    }\n",
      "  ],\n",
      "  \"creator\": [\n",
      "    {\n",
      "      \"name\": \"Zak Olkewicz\",\n",
      "      \"url\": \"/name/nm5599654/\"\n",
      "    },\n",
      "    {\n",
      "      \"name\": \"K\\u00f4tar\\u00f4 Isaka\",\n",
      "      \"url\": \"/name/nm2157655/\"\n",
      "    }\n",
      "  ]\n",
      "}\n"
     ]
    }
   ],
   "source": [
    "res = imdb.get_by_id(\"tt12593682\")\n",
    "print(res)"
   ]
  },
  {
   "cell_type": "code",
   "execution_count": null,
   "metadata": {},
   "outputs": [],
   "source": []
  }
 ],
 "metadata": {
  "kernelspec": {
   "display_name": "venv",
   "language": "python",
   "name": "python3"
  },
  "language_info": {
   "codemirror_mode": {
    "name": "ipython",
    "version": 3
   },
   "file_extension": ".py",
   "mimetype": "text/x-python",
   "name": "python",
   "nbconvert_exporter": "python",
   "pygments_lexer": "ipython3",
   "version": "3.8.10"
  },
  "orig_nbformat": 4
 },
 "nbformat": 4,
 "nbformat_minor": 2
}
